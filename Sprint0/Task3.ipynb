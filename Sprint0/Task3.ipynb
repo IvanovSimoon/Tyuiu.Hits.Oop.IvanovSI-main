{
 "cells": [
  {
   "cell_type": "markdown",
   "metadata": {},
   "source": [
    "<h1 style=\"color:DodgerBlue\">Индивидальный проект</h1>"
   ]
  },
  {
   "cell_type": "markdown",
   "metadata": {},
   "source": [
    "<h2 style=\"color:DodgerBlue\">Название проекта:</h2>\n",
    "\n",
    "----\n",
    "\n",
    "### Вариант задания \n"
   ]
  },
  {
   "cell_type": "markdown",
   "metadata": {},
   "source": [
    "<h2 style=\"color:DodgerBlue\">Описание проекта:</h2>\n",
    "\n",
    "----\n",
    "\n",
    "Вариант задания № 1\n",
    "Описание задачи:\n",
    "Создать базовый класс Person в C#, который будет представлять информацию о\n",
    "человеке. На основе этого класса разработать 2-3 производных класса,\n",
    "демонстрирующих принципы наследования и полиморфизма. В каждом из классов\n",
    "должны быть реализованы новые атрибуты и методы, а также переопределены\n",
    "некоторые методы базового класса для демонстрации полиморфизма.\n",
    "Требования к базовому классу Person:\n",
    "• Атрибуты: Имя (Name), Возраст (Age), Пол (Gender).\n",
    "• Методы:\n",
    "o GetInfo(): метод для получения информации о человеке в виде строки.\n",
    "o SayHello(): метод для вывода приветствия от человека.\n",
    "Требования к производным классам:\n",
    "1. Студент (Student): Должен содержать дополнительные атрибуты, такие как\n",
    "Университет (University) и Курс (Course). Метод SayHello() должен быть\n",
    "переопределен для добавления информации о курсе при приветствии.\n",
    "2. Работник (Employee): Должен содержать дополнительные атрибуты, такие\n",
    "как Компания (Company) и Зарплата (Salary). Метод GetInfo() должен быть\n",
    "переопределен для включения информации о компании и зарплате.\n",
    "3. Преподаватель (Teacher) (если требуется третий класс): Должен содержать\n",
    "дополнительные атрибуты, такие как Предмет (Subject) и Стаж работы\n",
    "(Experience). Метод SayHello() должен быть переопределен для добавления\n",
    "информации о преподаваемом предмете при приветствии.\n",
    "\n"
   ]
  },
  {
   "cell_type": "markdown",
   "metadata": {},
   "source": [
    "<h2 style=\"color:DodgerBlue\">Реализация:</h2>\n",
    "\n",
    "----"
   ]
  },
  {
   "cell_type": "code",
   "execution_count": 2,
   "metadata": {
    "dotnet_interactive": {
     "language": "csharp"
    },
    "polyglot_notebook": {
     "kernelName": "csharp"
    }
   },
   "outputs": [
    {
     "name": "stdout",
     "output_type": "stream",
     "text": [
      "Имя студента: Иван, Возраст студента: 20, Пол студента: Мужской\n",
      "Здравствуйте, я студент МГУ, я учусь на 2 курсе\n",
      "\n",
      "Имя работника: Анна, Возраст работника: 30, Пол работника: Женский, Компания: TechCorp, Зарплата: 50000\n",
      "Здравствуйте\n"
     ]
    }
   ],
   "source": [
    "using System;\n",
    "\n",
    "public interface IPerson {\n",
    "    string Name { get; set; }\n",
    "    int Age { get; set; }\n",
    "    string Gender { get; set; }\n",
    "    int Course { get; set; }\n",
    "    string University { get; set; }\n",
    "    string Company { get; set; }\n",
    "    int Salary { get; set; }\n",
    "\n",
    "    void GetInfo();\n",
    "    void SayHello();\n",
    "}\n",
    "\n",
    "public interface IStudent {\n",
    "    string University { get; set; }\n",
    "    int Course { get; set; }\n",
    "}\n",
    "\n",
    "public interface IEmployee {\n",
    "    string Company { get; set; }\n",
    "    int Salary { get; set; }\n",
    "}\n",
    "\n",
    "public class Person : IPerson {\n",
    "    public string Name { get; set; }\n",
    "    public int Age { get; set; }\n",
    "    public string Gender { get; set; }\n",
    "    public int Course { get; set; }\n",
    "    public string University { get; set; }\n",
    "    public string Company { get; set; }\n",
    "    public int Salary { get; set; }\n",
    "\n",
    "    public Person(string name, int age, string gender, int course, string university, string company, int salary) {\n",
    "        Name = name;\n",
    "        Age = age;\n",
    "        Gender = gender;\n",
    "        Course = course;\n",
    "        University = university;\n",
    "        Company = company;\n",
    "        Salary = salary;\n",
    "    }\n",
    "\n",
    "    public virtual void GetInfo() {\n",
    "        Console.WriteLine($\"Имя студента: {Name}, Возраст студента: {Age}, Пол студента: {Gender}\");\n",
    "    }\n",
    "\n",
    "    public virtual void SayHello() {\n",
    "        Console.WriteLine($\"Здравствуйте\");\n",
    "    }\n",
    "}\n",
    "\n",
    "public class Student : Person, IStudent {\n",
    "    public Student(string name, int age, string gender, int course, string university, string company, int salary)\n",
    "        : base(name, age, gender, course, university, company, salary) {\n",
    "        University = university;\n",
    "        Course = course;\n",
    "    }\n",
    "\n",
    "    public override void SayHello() {\n",
    "        Console.WriteLine($\"Здравствуйте, я студент {University}, я учусь на {Course} курсе\");\n",
    "    }\n",
    "}\n",
    "\n",
    "public class Employee : Person, IEmployee {\n",
    "    public Employee(string name, int age, string gender, int course, string university, string company, int salary)\n",
    "        : base(name, age, gender, course, university, company, salary) {\n",
    "        Company = company;\n",
    "        Salary = salary;\n",
    "    }\n",
    "\n",
    "    public override void GetInfo() {\n",
    "        Console.WriteLine($\"Имя работника: {Name}, Возраст работника: {Age}, Пол работника: {Gender}, Компания: {Company}, Зарплата: {Salary}\");\n",
    "    }\n",
    "}\n",
    "\n",
    "Student student = new Student(\"Иван\", 20, \"Мужской\", 2, \"МГУ\", \"\", 0);\n",
    "student.GetInfo(); \n",
    "student.SayHello(); \n",
    "\n",
    "Console.WriteLine(); \n",
    "\n",
    "// Создание объекта работника\n",
    "Employee employee = new Employee(\"Анна\", 30, \"Женский\", 0, \"\", \"TechCorp\", 50000);\n",
    "employee.GetInfo(); \n",
    "employee.SayHello();\n"
   ]
  }
 ],
 "metadata": {
  "kernelspec": {
   "display_name": ".NET (C#)",
   "language": "C#",
   "name": ".net-csharp"
  },
  "polyglot_notebook": {
   "kernelInfo": {
    "defaultKernelName": "csharp",
    "items": [
     {
      "aliases": [],
      "languageName": "csharp",
      "name": "csharp"
     }
    ]
   }
  }
 },
 "nbformat": 4,
 "nbformat_minor": 2
}
