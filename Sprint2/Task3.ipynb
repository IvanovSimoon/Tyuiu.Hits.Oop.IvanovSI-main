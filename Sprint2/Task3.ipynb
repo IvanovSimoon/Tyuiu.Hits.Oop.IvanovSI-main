{
 "cells": [
  {
   "cell_type": "markdown",
   "metadata": {},
   "source": [
    "<h1 style=\"color:DodgerBlue\">Индивидальный проект</h1>"
   ]
  },
  {
   "cell_type": "markdown",
   "metadata": {},
   "source": [
    "<h2 style=\"color:DodgerBlue\">Название проекта:</h2>\n",
    "\n",
    "----\n",
    "\n",
    "### Вариант задания \n"
   ]
  },
  {
   "cell_type": "markdown",
   "metadata": {},
   "source": [
    "<h2 style=\"color:DodgerBlue\">Описание проекта:</h2>\n",
    "\n",
    "----\n",
    "\n",
    "[ваш текст]\n",
    "\n",
    "#### Дополнительное задание\n",
    "Добавьте к сущестующим классам (базовыму и производным 3-4 атрибута и метода) и реализуйте простое, сложное и множественное наследование"
   ]
  },
  {
   "cell_type": "markdown",
   "metadata": {},
   "source": [
    "<h2 style=\"color:DodgerBlue\">Реализация:</h2>\n",
    "\n",
    "----"
   ]
  },
  {
   "cell_type": "code",
   "execution_count": null,
   "metadata": {
    "dotnet_interactive": {
     "language": "csharp"
    },
    "polyglot_notebook": {
     "kernelName": "csharp"
    }
   },
   "outputs": [
    {
     "name": "stdout",
     "output_type": "stream",
     "text": [
      "Имя студента: Иван, Возраст студента: 20, Пол студента: Мужской\n",
      "Здравствуйте, я студент МГУ, я учусь на 2 курсе\n",
      "\n",
      "Имя студента: Семён, Возраст студента: 18, Пол студента: Мужской\n",
      "Здравствуйте, я студент ТИУ, я учусь на 2 курсе\n",
      "\n",
      "Здравствуйте, меня зовут Максим и хочу поступить в ТИУ\n",
      "\n",
      "Имя работника: Анна, Возраст работника: 30, Пол работника: Женский, Компания: TechCorp, Зарплата: 50000\n",
      "Здравствуйте\n",
      "\n",
      "Имя работника: Артём, Возраст работника: 24, Пол работника: Мужской, Компания: HumsterCombat, Зарплата: 10000000\n",
      "Здравствуйте\n",
      "Иван: Привет, Артём! Какая у тебя зарплата в HumsterCombat?\n",
      "Артём: Привет, Иван! Моя зарплата в HumsterCombat составляет 10000000 рублей.\n"
     ]
    }
   ],
   "source": [
    "using System;\n",
    "\n",
    "public interface IPerson {\n",
    "    string Name { get; set; }\n",
    "    int Age { get; set; }\n",
    "    string Gender { get; set; }\n",
    "    int Course { get; set; }\n",
    "    string University { get; set; }\n",
    "    string Company { get; set; }\n",
    "    int Salary { get; set; }\n",
    "\n",
    "    void GetInfo();\n",
    "    void SayHello();\n",
    "}\n",
    "\n",
    "public interface IStudent {\n",
    "    string University { get; set; }\n",
    "    int Course { get; set; }\n",
    "}\n",
    "\n",
    "public interface IEmployee {\n",
    "    string Company { get; set; }\n",
    "    int Salary { get; set; }\n",
    "}\n",
    "\n",
    "public class Person : IPerson {\n",
    "    public string Name { get; set; }\n",
    "    public int Age { get; set; }\n",
    "    public string Gender { get; set; }\n",
    "    public int Course { get; set; }\n",
    "    public string University { get; set; }\n",
    "    public string Company { get; set; }\n",
    "    public int Salary { get; set; }\n",
    "\n",
    "    public Person(string name, int age, string gender, int course, string university, string company, int salary) {\n",
    "        Name = name;\n",
    "        Age = age;\n",
    "        Gender = gender;\n",
    "        Course = course;\n",
    "        University = university;\n",
    "        Company = company;\n",
    "        Salary = salary;\n",
    "    }\n",
    "\n",
    "    public virtual void GetInfo() {\n",
    "        Console.WriteLine($\"Имя студента: {Name}, Возраст студента: {Age}, Пол студента: {Gender}\");\n",
    "    }\n",
    "\n",
    "    public virtual void SayHello() {\n",
    "        Console.WriteLine($\"Здравствуйте\");\n",
    "    }\n",
    "}\n",
    "\n",
    "public class Student : Person, IStudent {\n",
    "    public Student(string name, int age, string gender, int course, string university, string company, int salary)\n",
    "        : base(name, age, gender, course, university, company, salary) {\n",
    "        University = university;\n",
    "        Course = course;\n",
    "    }\n",
    "\n",
    "    public override void SayHello() {\n",
    "        Console.WriteLine($\"Здравствуйте, я студент {University}, я учусь на {Course} курсе\");\n",
    "    }\n",
    "\n",
    "    public void AskQuestion(Employee employee) {\n",
    "        Console.WriteLine($\"{Name}: Привет, {employee.Name}! Какая у тебя зарплата в {employee.Company}?\");\n",
    "        employee.ShareSalaryInfo(this);\n",
    "    }\n",
    "}\n",
    "\n",
    "public class SchoolBoy : Student\n",
    "{\n",
    "    public SchoolBoy(string name, int age, string gender, int course, string university, string company, int salary)\n",
    "        : base(name, age, gender, course, university, company, salary) {\n",
    "        University = university;\n",
    "        Course = course;\n",
    "    }\n",
    "\n",
    "    public override void SayHello() {\n",
    "        Console.WriteLine($\"Здравствуйте, меня зовут {Name} и хочу поступить в {University}\");\n",
    "    }\n",
    "}\n",
    "\n",
    "public class Employee : Person, IEmployee {\n",
    "    public Employee(string name, int age, string gender, int course, string university, string company, int salary)\n",
    "        : base(name, age, gender, course, university, company, salary) {\n",
    "        Company = company;\n",
    "        Salary = salary;\n",
    "    }\n",
    "\n",
    "    public override void GetInfo() {\n",
    "        Console.WriteLine($\"Имя работника: {Name}, Возраст работника: {Age}, Пол работника: {Gender}, Компания: {Company}, Зарплата: {Salary}\");\n",
    "    }\n",
    "\n",
    "    public void ShareSalaryInfo(Student student) {\n",
    "        Console.WriteLine($\"{Name}: Привет, {student.Name}! Моя зарплата в {Company} составляет {Salary} рублей.\");\n",
    "    }\n",
    "}\n",
    "\n",
    "Student student = new Student(\"Иван\", 20, \"Мужской\", 2, \"МГУ\", \"\", 0);\n",
    "student.GetInfo(); \n",
    "student.SayHello();\n",
    "\n",
    "Console.WriteLine(); \n",
    "\n",
    "Student student1 = new Student(\"Семён\", 18, \"Мужской\", 2, \"ТИУ\", \"\", 0); \n",
    "student1.GetInfo(); \n",
    "student1.SayHello();\n",
    "\n",
    "Console.WriteLine();\n",
    "\n",
    "SchoolBoy sboy = new SchoolBoy(\"Максим\", 0, \"\", 0, \"ТИУ\", \"\", 0); \n",
    " \n",
    "sboy.SayHello();\n",
    "\n",
    "Console.WriteLine();\n",
    "\n",
    "// Создание объекта работника\n",
    "Employee employee = new Employee(\"Анна\", 30, \"Женский\", 0, \"\", \"TechCorp\", 50000);\n",
    "employee.GetInfo(); \n",
    "employee.SayHello();\n",
    "\n",
    "Console.WriteLine(); \n",
    "\n",
    "Employee employee1 = new Employee(\"Артём\", 24, \"Мужской\", 0, \"\", \"HumsterCombat\", 10000000);\n",
    "employee1.GetInfo(); \n",
    "employee1.SayHello();\n",
    "\n",
    "student.AskQuestion(employee1);"
   ]
  }
 ],
 "metadata": {
  "kernelspec": {
   "display_name": ".NET (C#)",
   "language": "C#",
   "name": ".net-csharp"
  },
  "polyglot_notebook": {
   "kernelInfo": {
    "defaultKernelName": "csharp",
    "items": [
     {
      "aliases": [],
      "languageName": "csharp",
      "name": "csharp"
     }
    ]
   }
  }
 },
 "nbformat": 4,
 "nbformat_minor": 2
}
